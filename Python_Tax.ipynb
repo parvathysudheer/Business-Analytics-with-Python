{
  "nbformat": 4,
  "nbformat_minor": 0,
  "metadata": {
    "colab": {
      "name": "Python Tax.ipynb",
      "provenance": []
    },
    "kernelspec": {
      "name": "python3",
      "display_name": "Python 3"
    },
    "language_info": {
      "name": "python"
    }
  },
  "cells": [
    {
      "cell_type": "code",
      "execution_count": 1,
      "metadata": {
        "colab": {
          "base_uri": "https://localhost:8080/"
        },
        "id": "EN7LqcJDN343",
        "outputId": "658edbaa-5bf6-4019-8d15-78aeea07f938"
      },
      "outputs": [
        {
          "name": "stdout",
          "output_type": "stream",
          "text": [
            "enter a number12\n"
          ]
        }
      ],
      "source": [
        "x=input(\"enter a number\")"
      ]
    },
    {
      "cell_type": "code",
      "source": [
        "y=input(\"enter a number\")"
      ],
      "metadata": {
        "colab": {
          "base_uri": "https://localhost:8080/"
        },
        "id": "Y4ebecKgPEzX",
        "outputId": "e950d244-af1a-45c3-a644-353c769b5cdb"
      },
      "execution_count": 2,
      "outputs": [
        {
          "name": "stdout",
          "output_type": "stream",
          "text": [
            "enter a number6\n"
          ]
        }
      ]
    },
    {
      "cell_type": "code",
      "source": [
        "x+y"
      ],
      "metadata": {
        "colab": {
          "base_uri": "https://localhost:8080/",
          "height": 35
        },
        "id": "hHuNU2szPSmy",
        "outputId": "7e7ab0b9-f58f-4676-b77e-bad97a8709ac"
      },
      "execution_count": 3,
      "outputs": [
        {
          "output_type": "execute_result",
          "data": {
            "text/plain": [
              "'126'"
            ],
            "application/vnd.google.colaboratory.intrinsic+json": {
              "type": "string"
            }
          },
          "metadata": {},
          "execution_count": 3
        }
      ]
    },
    {
      "cell_type": "code",
      "source": [
        "int(x)+int(y)"
      ],
      "metadata": {
        "colab": {
          "base_uri": "https://localhost:8080/"
        },
        "id": "SAWkkR63Phs-",
        "outputId": "3df931fa-c295-44a9-ce85-57cc398525a8"
      },
      "execution_count": 4,
      "outputs": [
        {
          "output_type": "execute_result",
          "data": {
            "text/plain": [
              "18"
            ]
          },
          "metadata": {},
          "execution_count": 4
        }
      ]
    },
    {
      "cell_type": "code",
      "source": [
        "int(x)-int(y)"
      ],
      "metadata": {
        "colab": {
          "base_uri": "https://localhost:8080/"
        },
        "id": "5sHWx6GyPoOp",
        "outputId": "9d09a465-3c4d-40e7-ebf0-ea6e6cbbb9c3"
      },
      "execution_count": 5,
      "outputs": [
        {
          "output_type": "execute_result",
          "data": {
            "text/plain": [
              "6"
            ]
          },
          "metadata": {},
          "execution_count": 5
        }
      ]
    },
    {
      "cell_type": "code",
      "source": [
        "int(x)*int(y)"
      ],
      "metadata": {
        "colab": {
          "base_uri": "https://localhost:8080/"
        },
        "id": "JFjlfrF7P1u6",
        "outputId": "79dcc7b2-51a6-4fa4-9d4f-9aea5956827d"
      },
      "execution_count": 6,
      "outputs": [
        {
          "output_type": "execute_result",
          "data": {
            "text/plain": [
              "72"
            ]
          },
          "metadata": {},
          "execution_count": 6
        }
      ]
    },
    {
      "cell_type": "code",
      "source": [
        "int(x)/int(y)"
      ],
      "metadata": {
        "colab": {
          "base_uri": "https://localhost:8080/"
        },
        "id": "YYVZ5qDsP55u",
        "outputId": "d9b35264-94b7-4755-e64e-6a6a4dca02e4"
      },
      "execution_count": 7,
      "outputs": [
        {
          "output_type": "execute_result",
          "data": {
            "text/plain": [
              "2.0"
            ]
          },
          "metadata": {},
          "execution_count": 7
        }
      ]
    },
    {
      "cell_type": "code",
      "source": [
        "x=int(input(\"enter the first number\"))"
      ],
      "metadata": {
        "colab": {
          "base_uri": "https://localhost:8080/"
        },
        "id": "eM_I5B4SP-c-",
        "outputId": "d2472f35-3eeb-4754-9594-6943890490c6"
      },
      "execution_count": 8,
      "outputs": [
        {
          "name": "stdout",
          "output_type": "stream",
          "text": [
            "enter the first number36\n"
          ]
        }
      ]
    },
    {
      "cell_type": "code",
      "source": [
        "y=int(input(\"enter the second number\"))"
      ],
      "metadata": {
        "colab": {
          "base_uri": "https://localhost:8080/"
        },
        "id": "_dcM5y8ySAEi",
        "outputId": "a234e676-4b4e-4cfe-a39e-0452585dad6c"
      },
      "execution_count": 9,
      "outputs": [
        {
          "name": "stdout",
          "output_type": "stream",
          "text": [
            "enter the second number63\n"
          ]
        }
      ]
    },
    {
      "cell_type": "code",
      "source": [
        "p=int(input(\"enter the principle amount\"))"
      ],
      "metadata": {
        "colab": {
          "base_uri": "https://localhost:8080/"
        },
        "id": "dQuShi_CUQjV",
        "outputId": "47239863-f649-44a1-bf73-4c5348b174eb"
      },
      "execution_count": 11,
      "outputs": [
        {
          "name": "stdout",
          "output_type": "stream",
          "text": [
            "enter the principle amount10000\n"
          ]
        }
      ]
    },
    {
      "cell_type": "code",
      "source": [
        "n=int(input(\"enter the number of years\"))"
      ],
      "metadata": {
        "colab": {
          "base_uri": "https://localhost:8080/"
        },
        "id": "bK3-Bt1TUbkC",
        "outputId": "1658a784-0b76-4875-9ada-6b8119346ca4"
      },
      "execution_count": 13,
      "outputs": [
        {
          "name": "stdout",
          "output_type": "stream",
          "text": [
            "enter the number of years10\n"
          ]
        }
      ]
    },
    {
      "cell_type": "code",
      "source": [
        "r=int(input(\"enter the rate\"))"
      ],
      "metadata": {
        "colab": {
          "base_uri": "https://localhost:8080/"
        },
        "id": "AY_l2ZsxVU-B",
        "outputId": "bfca2069-c065-4fbe-eaf5-4db20e765b98"
      },
      "execution_count": 15,
      "outputs": [
        {
          "name": "stdout",
          "output_type": "stream",
          "text": [
            "enter the rate6\n"
          ]
        }
      ]
    },
    {
      "cell_type": "code",
      "source": [
        "i=p*n*r/100"
      ],
      "metadata": {
        "id": "PeOJ6f-gVd6P"
      },
      "execution_count": 16,
      "outputs": []
    },
    {
      "cell_type": "code",
      "source": [
        "print(i)"
      ],
      "metadata": {
        "colab": {
          "base_uri": "https://localhost:8080/"
        },
        "id": "u_bCOc2UVpKp",
        "outputId": "c09b56d5-0b4d-4f46-fc7f-2a511740b6e9"
      },
      "execution_count": 17,
      "outputs": [
        {
          "output_type": "stream",
          "name": "stdout",
          "text": [
            "6000.0\n"
          ]
        }
      ]
    },
    {
      "cell_type": "code",
      "source": [
        "n=input(\"enter your name : \")\n",
        "x=int(input(\"enter your mark : \"))\n",
        "if x>50:\n",
        "  print(\"pass\")\n",
        "else:\n",
        "  print(\"fail\")"
      ],
      "metadata": {
        "colab": {
          "base_uri": "https://localhost:8080/"
        },
        "id": "QjD-xbebVrNp",
        "outputId": "6c0d6864-26b6-4fb0-9a99-641f6d16fa42"
      },
      "execution_count": 28,
      "outputs": [
        {
          "output_type": "stream",
          "name": "stdout",
          "text": [
            "enter your name : PARVATHY\n",
            "enter your mark : 100\n",
            "pass\n"
          ]
        }
      ]
    },
    {
      "cell_type": "code",
      "source": [
        "s=int(input(\"enter your salary\"))\n",
        "t=s*10/100\n",
        "if s>250000:\n",
        "  print(\"taxable\")\n",
        "  \n",
        "    print(t)\n",
        "else:\n",
        "  print(\"not taxable\")"
      ],
      "metadata": {
        "colab": {
          "base_uri": "https://localhost:8080/"
        },
        "id": "BJyCuQLQYh7o",
        "outputId": "f8c01f11-4da4-43e2-8ea6-4598088ea082"
      },
      "execution_count": 33,
      "outputs": [
        {
          "output_type": "stream",
          "name": "stdout",
          "text": [
            "enter your salary6000000\n",
            "taxable\n",
            "600000.0\n"
          ]
        }
      ]
    },
    {
      "cell_type": "code",
      "source": [
        "s=int(input(\"enter your salary\"))\n",
        "if s>250000:\n",
        "  print(\"taxable\")\n",
        "  t=(s-250000)*10/100\n",
        "  print(t)\n",
        "else:\n",
        "  print(\"not taxable\")"
      ],
      "metadata": {
        "colab": {
          "base_uri": "https://localhost:8080/"
        },
        "outputId": "9a3259fe-9165-402c-9728-9fd80d7670fa",
        "id": "me6O_ZGwgdnj"
      },
      "execution_count": 37,
      "outputs": [
        {
          "output_type": "stream",
          "name": "stdout",
          "text": [
            "enter your salary6000000\n",
            "taxable\n",
            "575000.0\n"
          ]
        }
      ]
    },
    {
      "cell_type": "code",
      "source": [
        "s=int(input(\"enter your salary\"))\n",
        "if s>250000 and s<500000:\n",
        "  print(\"taxable\")\n",
        "  t=(s-250000)*10/100\n",
        "  print(t)\n",
        "if s>500000:\n",
        "  print(\"taxable\")\n",
        "  t=(s-250000)*20/100\n",
        "  print(t)\n",
        "else:\n",
        "  print(\"not taxable\")"
      ],
      "metadata": {
        "colab": {
          "base_uri": "https://localhost:8080/"
        },
        "outputId": "00671f80-3aeb-4b41-c5af-3a74ef7ef334",
        "id": "uwXqlubVj5lu"
      },
      "execution_count": 38,
      "outputs": [
        {
          "output_type": "stream",
          "name": "stdout",
          "text": [
            "enter your salary6000000\n",
            "taxable\n",
            "1150000.0\n"
          ]
        }
      ]
    }
  ]
}